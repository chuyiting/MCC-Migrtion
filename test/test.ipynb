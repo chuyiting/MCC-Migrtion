{
 "cells": [
  {
   "cell_type": "code",
   "execution_count": 1,
   "metadata": {},
   "outputs": [
    {
     "ename": "ModuleNotFoundError",
     "evalue": "No module named 'ModelNet'",
     "output_type": "error",
     "traceback": [
      "\u001b[0;31m---------------------------------------------------------------------------\u001b[0m",
      "\u001b[0;31mModuleNotFoundError\u001b[0m                       Traceback (most recent call last)",
      "Cell \u001b[0;32mIn[1], line 1\u001b[0m\n\u001b[0;32m----> 1\u001b[0m \u001b[38;5;28;01mfrom\u001b[39;00m \u001b[38;5;21;01mModelNet\u001b[39;00m \u001b[38;5;28;01mimport\u001b[39;00m ModelNetDataSet\n\u001b[1;32m      2\u001b[0m maxStoredPoints \u001b[38;5;241m=\u001b[39m \u001b[38;5;28mint\u001b[39m(\u001b[38;5;28mfloat\u001b[39m(\u001b[38;5;241m1024\u001b[39m) \u001b[38;5;241m*\u001b[39m (\u001b[38;5;241m2.0\u001b[39m \u001b[38;5;241m-\u001b[39m \u001b[38;5;241m1\u001b[39m))\n\u001b[1;32m      3\u001b[0m mTrainDataSet \u001b[38;5;241m=\u001b[39m ModelNetDataSet(\u001b[38;5;28;01mTrue\u001b[39;00m, \u001b[38;5;241m1024\u001b[39m, \u001b[38;5;241m1\u001b[39m, maxStoredPoints, \u001b[38;5;241m32\u001b[39m, [\u001b[38;5;241m0\u001b[39m,\u001b[38;5;241m1\u001b[39m])\n",
      "\u001b[0;31mModuleNotFoundError\u001b[0m: No module named 'ModelNet'"
     ]
    }
   ],
   "source": [
    "from ModelNet import ModelNetDataSet\n",
    "maxStoredPoints = int(float(1024) * (2.0 - 1))\n",
    "mTrainDataSet = ModelNetDataSet(True, 1024, 1, maxStoredPoints, 32, [0,1])"
   ]
  },
  {
   "cell_type": "code",
   "execution_count": null,
   "metadata": {},
   "outputs": [],
   "source": []
  }
 ],
 "metadata": {
  "kernelspec": {
   "display_name": "computer-vision",
   "language": "python",
   "name": "python3"
  },
  "language_info": {
   "codemirror_mode": {
    "name": "ipython",
    "version": 3
   },
   "file_extension": ".py",
   "mimetype": "text/x-python",
   "name": "python",
   "nbconvert_exporter": "python",
   "pygments_lexer": "ipython3",
   "version": "3.12.2"
  }
 },
 "nbformat": 4,
 "nbformat_minor": 2
}
